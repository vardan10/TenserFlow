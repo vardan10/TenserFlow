{
 "cells": [
  {
   "cell_type": "markdown",
   "metadata": {},
   "source": [
    "# TensorFlow essentials"
   ]
  },
  {
   "cell_type": "markdown",
   "metadata": {},
   "source": [
    "### 1. Import TensorFlow and Numpy:"
   ]
  },
  {
   "cell_type": "code",
   "execution_count": 1,
   "metadata": {},
   "outputs": [],
   "source": [
    "import tensorflow as tf\n",
    "import numpy as np"
   ]
  },
  {
   "cell_type": "markdown",
   "metadata": {},
   "source": [
    " "
   ]
  },
  {
   "cell_type": "markdown",
   "metadata": {},
   "source": [
    "### 2. Defining tensors"
   ]
  },
  {
   "cell_type": "markdown",
   "metadata": {},
   "source": [
    "A tensor is a generalization of a matrix that specifies an element by an arbitrary number of indices.\n",
    "The syntax for tensors is even more nested vectors. For example, a 2-by-3-by-2 tensor is [[[1,2], [3,4], [5,6]], [[7,8], [9,10], [11,12]]], which can be thought of as two matrices, each of size 3-by-2. Consequently, we say this tensor has a rank of 3."
   ]
  },
  {
   "cell_type": "code",
   "execution_count": 7,
   "metadata": {},
   "outputs": [
    {
     "name": "stdout",
     "output_type": "stream",
     "text": [
      "<class 'list'>\n",
      "<class 'numpy.ndarray'>\n",
      "<class 'tensorflow.python.framework.ops.Tensor'>\n",
      "<class 'tensorflow.python.framework.ops.Tensor'>\n",
      "<class 'tensorflow.python.framework.ops.Tensor'>\n",
      "<class 'tensorflow.python.framework.ops.Tensor'>\n"
     ]
    }
   ],
   "source": [
    "m1 = [[1.0, 2.0], \n",
    "      [3.0, 4.0]]\n",
    "\n",
    "m2 = np.array([[1.0, 2.0], \n",
    "               [3.0, 4.0]], dtype=np.float32)\n",
    "\n",
    "m3 = tf.constant([[1.0, 2.0], \n",
    "                  [3.0, 4.0]])\n",
    "\n",
    "# Let's see what happens when we print them:\n",
    "print(type(m1))\n",
    "print(type(m2))\n",
    "print(type(m3))\n",
    "\n",
    "# By the way, there's a function called convert_to_tensor(...) that does exactly what you might expect.\n",
    "# Let's use it to create tensor objects out of various types:\n",
    "t1 = tf.convert_to_tensor(m1, dtype=tf.float32)\n",
    "t2 = tf.convert_to_tensor(m2, dtype=tf.float32)\n",
    "t3 = tf.convert_to_tensor(m3, dtype=tf.float32)\n",
    "\n",
    "print(type(t1))\n",
    "print(type(t2))\n",
    "print(type(t3))"
   ]
  },
  {
   "cell_type": "markdown",
   "metadata": {},
   "source": [
    " "
   ]
  },
  {
   "cell_type": "markdown",
   "metadata": {},
   "source": [
    "### 3. Evaluating ops "
   ]
  },
  {
   "cell_type": "raw",
   "metadata": {},
   "source": [
    "Each Tensor object has a unique label (name), a dimension (shape) to define its structure, and data type (dtype) to specify the kind of values we will manipulate. Because we did not explicitly provide a name, the library automatically generated the name: \"Neg_1:0\".\n",
    "TensorFlow also comes with a few convenient constructors for some simple tensors. For example, tf.zeros(shape) creates a tensor with all values initialized at zero of a specific shape. Similarly, tf.ones(shape) creates a tensor of a specific shape with all values initialized at once.\n",
    "\n",
    "EXERCISE: Initialize a 500-by-500 tensor with all elements equaling 0.5.\n",
    "ANSWER\n",
    "        tf.ones([500,500]) * 0.5\n",
    "        \n",
    "Useful TensorFlow operators:\n",
    "tf.add(x, y)             -> Add two tensors of the same type, x + y\n",
    "tf.subtract( x, y)       -> Subtract tensors of the same type, x - y\n",
    "tf.multiply( x, y)       -> Multiply two tensors element-wise\n",
    "tf.pow(x, y)             -> Take the element-wise power of x to y\n",
    "tf.exp(x)                -> Equivalent to pow(e, x), where e is Euler’s number (2.718…)\n",
    "tf.sqrt(x)               -> Equivalent to pow(x, 0.5)\n",
    "tf.div(x, y)             -> Take the element-wise division of x and y\n",
    "tf.truediv(x, y)         -> Same as tf.div, except casts the arguments as a float\n",
    "tf.floordiv( x, y)       -> Same as truediv, except rounds down the final answer into an integer\n",
    "tf.mod(x, y)             -> Takes the element-wise remainder from division"
   ]
  },
  {
   "cell_type": "code",
   "execution_count": 11,
   "metadata": {},
   "outputs": [
    {
     "name": "stdout",
     "output_type": "stream",
     "text": [
      "Tensor(\"Neg_5:0\", shape=(1, 2), dtype=int32)\n",
      "[[-1 -2]]\n"
     ]
    }
   ],
   "source": [
    "x = tf.constant([[1, 2]])             # Start with a 1x2 matrix\n",
    "\n",
    "neg_x = tf.negative(x)                # Let's negate it\n",
    "print(neg_x)                          # It doesn't even perform the negation computation if you print.\n",
    "\n",
    "with tf.Session() as sess:            # You need to summon a session so you can launch the negation op:\n",
    "    result = sess.run(neg_x)\n",
    "    print(result)"
   ]
  },
  {
   "cell_type": "markdown",
   "metadata": {},
   "source": [
    " "
   ]
  },
  {
   "cell_type": "markdown",
   "metadata": {},
   "source": [
    "### 4. Interactive session"
   ]
  },
  {
   "cell_type": "raw",
   "metadata": {},
   "source": [
    "A session is an environment of a software system that describes how the lines of code should run. In TensorFlow, a session sets up how the hardware devices (such as CPU and GPU) talk to each other. That way, you can design your machine learning algorithm without worrying about micro-managing the hardware that it runs on. Of course, you can later configure the session to change its behavior without changing a line of the machine learning code.\n",
    "Every Tensor object has an eval() function to evaluate the mathematical operations that defines its value.\n",
    "When running TensorFlow code through an interactive environment (for debugging or presentation purposes), it is often easier to create the session in interactive mode, where the session is implicitly part of any call to eval()."
   ]
  },
  {
   "cell_type": "code",
   "execution_count": 12,
   "metadata": {},
   "outputs": [
    {
     "name": "stdout",
     "output_type": "stream",
     "text": [
      "[[-1. -2.]]\n"
     ]
    }
   ],
   "source": [
    "sess = tf.InteractiveSession()       # Interactive sessions are another way to use a session.\n",
    "\n",
    "# We have a matrix we want to invert:\n",
    "x = tf.constant([[1., 2.]])\n",
    "neg_op = tf.negative(x)\n",
    "\n",
    "# Since we're using an interactive session, we can just call the eval() method on the op.\n",
    "\n",
    "result = neg_op.eval()\n",
    "print(result)\n",
    "\n",
    "sess.close()"
   ]
  },
  {
   "cell_type": "markdown",
   "metadata": {},
   "source": [
    " "
   ]
  },
  {
   "cell_type": "markdown",
   "metadata": {},
   "source": [
    "### 5. Session logging"
   ]
  },
  {
   "cell_type": "raw",
   "metadata": {},
   "source": [
    "TensorFlow automatically determines the best way to assign a GPU or CPU device to an operation, depending on what is available. We can pass an additional option, log_device_placements=True , when creating a Session. This outputs info about which CPU/GPU devices are used in the session for each operation.\n",
    "Sessions are essential in TensorFlow code. You need to call a session to actually “run” the math. A session not only runs a graph operation, but can also take placeholders, variables, and constants as input.\n",
    "\n",
    "Here’s a quick overview of these three types of values.\n",
    "    • Placeholder\n",
    "        A value that is unassigned, but will be initialized by the session wherever it is run.\n",
    "    • Variable\n",
    "        A value that can change, such as parameters of a machine learning model.\n",
    "    • Constant\n",
    "        A value that does not change, such as hyper-parameters or settings."
   ]
  },
  {
   "cell_type": "code",
   "execution_count": 10,
   "metadata": {},
   "outputs": [
    {
     "name": "stdout",
     "output_type": "stream",
     "text": [
      "[[-1 -2]]\n"
     ]
    }
   ],
   "source": [
    "x = tf.constant([[1, 2]])\n",
    "neg_op = tf.negative(x)\n",
    "\n",
    "# Start the session with a special config passed in to the constructor to enable logging\n",
    "with tf.Session(config=tf.ConfigProto(log_device_placement=True)) as sess:\n",
    "    result = sess.run(neg_op)\n",
    "    print(result)"
   ]
  },
  {
   "cell_type": "markdown",
   "metadata": {},
   "source": [
    " "
   ]
  },
  {
   "cell_type": "markdown",
   "metadata": {},
   "source": [
    "### 6. Using variables"
   ]
  },
  {
   "cell_type": "code",
   "execution_count": 13,
   "metadata": {},
   "outputs": [
    {
     "name": "stdout",
     "output_type": "stream",
     "text": [
      "Spike False\n",
      "Spike True\n",
      "Spike False\n",
      "Spike False\n",
      "Spike True\n",
      "Spike False\n",
      "Spike True\n"
     ]
    }
   ],
   "source": [
    "sess = tf.InteractiveSession()\n",
    "\n",
    "# Below is a series of numbers. Don't worry what they mean. Just for fun, let's think of them as neural activations.\n",
    "raw_data = [1., 2., 8., -1., 0., 5.5, 6., 13]\n",
    "\n",
    "spike = tf.Variable(False)          # Create a boolean variable called spike to detect a sudden increase in the values.\n",
    "spike.initializer.run()             # All variables must be initialized, so do that by calling run() on its initializer\n",
    "\n",
    "# Loop through the data and update the spike variable when there is a significant increase:\n",
    "for i in range(1, len(raw_data)):\n",
    "    if raw_data[i] - raw_data[i-1] > 5:\n",
    "        updater = tf.assign(spike, tf.constant(True))\n",
    "        updater.eval()\n",
    "    else:\n",
    "        tf.assign(spike, False).eval()\n",
    "    print(\"Spike\", spike.eval())\n",
    "\n",
    "sess.close()"
   ]
  },
  {
   "cell_type": "markdown",
   "metadata": {},
   "source": [
    " "
   ]
  },
  {
   "cell_type": "markdown",
   "metadata": {},
   "source": [
    "### 7. Saving and Loading variables"
   ]
  },
  {
   "cell_type": "code",
   "execution_count": 22,
   "metadata": {},
   "outputs": [
    {
     "name": "stdout",
     "output_type": "stream",
     "text": [
      "INFO:tensorflow:Restoring parameters from spikes.ckpt\n",
      "file not found\n"
     ]
    }
   ],
   "source": [
    "sess = tf.InteractiveSession()\n",
    "\n",
    "raw_data = [1., 2., 8., -1., 0., 5.5, 6., 13]\n",
    "spikes = tf.Variable([False] * len(raw_data), name='spikes')\n",
    "spikes.initializer.run()\n",
    "\n",
    "saver = tf.train.Saver()                # The saver op will enable saving and restoring\n",
    "\n",
    "# do some operation\n",
    "for i in range(1, len(raw_data)):\n",
    "    if raw_data[i] - raw_data[i-1] > 5:\n",
    "        spikes_val = spikes.eval()\n",
    "        spikes_val[i] = True\n",
    "        updater = tf.assign(spikes, spikes_val)\n",
    "        updater.eval()\n",
    "\n",
    "# save session to disk\n",
    "#save_path = saver.save(sess,\"spikes.ckpt\")\n",
    "#print(\"spikes data saved in file: %s\" % save_path)\n",
    "\n",
    "sess.close()\n",
    "\n",
    "\n",
    "'''\n",
    "Lets Load the data again\n",
    "'''\n",
    "sess = tf.InteractiveSession()\n",
    "spikes = tf.Variable([False]*8, name='spikes')\n",
    "saver = tf.train.Saver()\n",
    "\n",
    "try:\n",
    "    saver.restore(sess, 'spikes.ckpt')\n",
    "    print(spikes.eval())\n",
    "except:\n",
    "    print('file not found')\n",
    "\n",
    "sess.close()"
   ]
  }
 ],
 "metadata": {
  "kernelspec": {
   "display_name": "Python 3",
   "language": "python",
   "name": "python3"
  },
  "language_info": {
   "codemirror_mode": {
    "name": "ipython",
    "version": 3
   },
   "file_extension": ".py",
   "mimetype": "text/x-python",
   "name": "python",
   "nbconvert_exporter": "python",
   "pygments_lexer": "ipython3",
   "version": "3.6.2"
  }
 },
 "nbformat": 4,
 "nbformat_minor": 2
}
