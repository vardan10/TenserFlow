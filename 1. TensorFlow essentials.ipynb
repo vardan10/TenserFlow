{
 "cells": [
  {
   "cell_type": "markdown",
   "metadata": {},
   "source": [
    "# TensorFlow essentials"
   ]
  },
  {
   "cell_type": "markdown",
   "metadata": {},
   "source": [
    "### 1. Import TensorFlow and Numpy:"
   ]
  },
  {
   "cell_type": "code",
   "execution_count": 1,
   "metadata": {},
   "outputs": [],
   "source": [
    "import tensorflow as tf\n",
    "import numpy as np"
   ]
  },
  {
   "cell_type": "markdown",
   "metadata": {},
   "source": [
    " "
   ]
  },
  {
   "cell_type": "markdown",
   "metadata": {},
   "source": [
    "### 2. Defining tensors"
   ]
  },
  {
   "cell_type": "markdown",
   "metadata": {},
   "source": [
    "A tensor is a generalization of a matrix that specifies an element by an arbitrary number of indices.\n",
    "The syntax for tensors is even more nested vectors. For example, a 2-by-3-by-2 tensor is [[[1,2], [3,4], [5,6]], [[7,8], [9,10], [11,12]]], which can be thought of as two matrices, each of size 3-by-2. Consequently, we say this tensor has a rank of 3."
   ]
  },
  {
   "cell_type": "code",
   "execution_count": 7,
   "metadata": {},
   "outputs": [
    {
     "name": "stdout",
     "output_type": "stream",
     "text": [
      "<class 'list'>\n",
      "<class 'numpy.ndarray'>\n",
      "<class 'tensorflow.python.framework.ops.Tensor'>\n",
      "<class 'tensorflow.python.framework.ops.Tensor'>\n",
      "<class 'tensorflow.python.framework.ops.Tensor'>\n",
      "<class 'tensorflow.python.framework.ops.Tensor'>\n"
     ]
    }
   ],
   "source": [
    "m1 = [[1.0, 2.0], \n",
    "      [3.0, 4.0]]\n",
    "\n",
    "m2 = np.array([[1.0, 2.0], \n",
    "               [3.0, 4.0]], dtype=np.float32)\n",
    "\n",
    "m3 = tf.constant([[1.0, 2.0], \n",
    "                  [3.0, 4.0]])\n",
    "\n",
    "# Let's see what happens when we print them:\n",
    "print(type(m1))\n",
    "print(type(m2))\n",
    "print(type(m3))\n",
    "\n",
    "# By the way, there's a function called convert_to_tensor(...) that does exactly what you might expect.\n",
    "# Let's use it to create tensor objects out of various types:\n",
    "t1 = tf.convert_to_tensor(m1, dtype=tf.float32)\n",
    "t2 = tf.convert_to_tensor(m2, dtype=tf.float32)\n",
    "t3 = tf.convert_to_tensor(m3, dtype=tf.float32)\n",
    "\n",
    "print(type(t1))\n",
    "print(type(t2))\n",
    "print(type(t3))"
   ]
  },
  {
   "cell_type": "markdown",
   "metadata": {},
   "source": [
    " "
   ]
  },
  {
   "cell_type": "markdown",
   "metadata": {},
   "source": [
    "### 3. Evaluating ops "
   ]
  },
  {
   "cell_type": "raw",
   "metadata": {},
   "source": [
    "Each Tensor object has a unique label (name), a dimension (shape) to define its structure, and data type (dtype) to specify the kind of values we will manipulate. Because we did not explicitly provide a name, the library automatically generated the name: \"Neg_1:0\".\n",
    "TensorFlow also comes with a few convenient constructors for some simple tensors. For example, tf.zeros(shape) creates a tensor with all values initialized at zero of a specific shape. Similarly, tf.ones(shape) creates a tensor of a specific shape with all values initialized at once.\n",
    "\n",
    "EXERCISE: Initialize a 500-by-500 tensor with all elements equaling 0.5.\n",
    "ANSWER\n",
    "        tf.ones([500,500]) * 0.5\n",
    "        \n",
    "Useful TensorFlow operators:\n",
    "tf.add(x, y)             -> Add two tensors of the same type, x + y\n",
    "tf.subtract( x, y)       -> Subtract tensors of the same type, x - y\n",
    "tf.multiply( x, y)       -> Multiply two tensors element-wise\n",
    "tf.pow(x, y)             -> Take the element-wise power of x to y\n",
    "tf.exp(x)                -> Equivalent to pow(e, x), where e is Euler’s number (2.718…)\n",
    "tf.sqrt(x)               -> Equivalent to pow(x, 0.5)\n",
    "tf.div(x, y)             -> Take the element-wise division of x and y\n",
    "tf.truediv(x, y)         -> Same as tf.div, except casts the arguments as a float\n",
    "tf.floordiv( x, y)       -> Same as truediv, except rounds down the final answer into an integer\n",
    "tf.mod(x, y)             -> Takes the element-wise remainder from division"
   ]
  },
  {
   "cell_type": "code",
   "execution_count": 11,
   "metadata": {},
   "outputs": [
    {
     "name": "stdout",
     "output_type": "stream",
     "text": [
      "Tensor(\"Neg_5:0\", shape=(1, 2), dtype=int32)\n",
      "[[-1 -2]]\n"
     ]
    }
   ],
   "source": [
    "x = tf.constant([[1, 2]])             # Start with a 1x2 matrix\n",
    "\n",
    "neg_x = tf.negative(x)                # Let's negate it\n",
    "print(neg_x)                          # It doesn't even perform the negation computation if you print.\n",
    "\n",
    "with tf.Session() as sess:            # You need to summon a session so you can launch the negation op:\n",
    "    result = sess.run(neg_x)\n",
    "    print(result)"
   ]
  },
  {
   "cell_type": "markdown",
   "metadata": {},
   "source": [
    " "
   ]
  },
  {
   "cell_type": "markdown",
   "metadata": {},
   "source": [
    "### 4. Interactive session"
   ]
  },
  {
   "cell_type": "raw",
   "metadata": {},
   "source": [
    "A session is an environment of a software system that describes how the lines of code should run. In TensorFlow, a session sets up how the hardware devices (such as CPU and GPU) talk to each other. That way, you can design your machine learning algorithm without worrying about micro-managing the hardware that it runs on. Of course, you can later configure the session to change its behavior without changing a line of the machine learning code.\n",
    "Every Tensor object has an eval() function to evaluate the mathematical operations that defines its value.\n",
    "When running TensorFlow code through an interactive environment (for debugging or presentation purposes), it is often easier to create the session in interactive mode, where the session is implicitly part of any call to eval()."
   ]
  },
  {
   "cell_type": "code",
   "execution_count": 12,
   "metadata": {},
   "outputs": [
    {
     "name": "stdout",
     "output_type": "stream",
     "text": [
      "[[-1. -2.]]\n"
     ]
    }
   ],
   "source": [
    "sess = tf.InteractiveSession()       # Interactive sessions are another way to use a session.\n",
    "\n",
    "# We have a matrix we want to invert:\n",
    "x = tf.constant([[1., 2.]])\n",
    "neg_op = tf.negative(x)\n",
    "\n",
    "# Since we're using an interactive session, we can just call the eval() method on the op.\n",
    "\n",
    "result = neg_op.eval()\n",
    "print(result)\n",
    "\n",
    "sess.close()"
   ]
  },
  {
   "cell_type": "markdown",
   "metadata": {},
   "source": [
    " "
   ]
  },
  {
   "cell_type": "markdown",
   "metadata": {},
   "source": [
    "### 5. Session logging"
   ]
  },
  {
   "cell_type": "raw",
   "metadata": {},
   "source": [
    "TensorFlow automatically determines the best way to assign a GPU or CPU device to an operation, depending on what is available. We can pass an additional option, log_device_placements=True , when creating a Session. This outputs info about which CPU/GPU devices are used in the session for each operation.\n",
    "Sessions are essential in TensorFlow code. You need to call a session to actually “run” the math. A session not only runs a graph operation, but can also take placeholders, variables, and constants as input.\n",
    "\n",
    "Here’s a quick overview of these three types of values.\n",
    "    • Placeholder\n",
    "        A value that is unassigned, but will be initialized by the session wherever it is run.\n",
    "    • Variable\n",
    "        A value that can change, such as parameters of a machine learning model.\n",
    "    • Constant\n",
    "        A value that does not change, such as hyper-parameters or settings."
   ]
  },
  {
   "cell_type": "code",
   "execution_count": 10,
   "metadata": {},
   "outputs": [
    {
     "name": "stdout",
     "output_type": "stream",
     "text": [
      "[[-1 -2]]\n"
     ]
    }
   ],
   "source": [
    "x = tf.constant([[1, 2]])\n",
    "neg_op = tf.negative(x)\n",
    "\n",
    "# Start the session with a special config passed in to the constructor to enable logging\n",
    "with tf.Session(config=tf.ConfigProto(log_device_placement=True)) as sess:\n",
    "    result = sess.run(neg_op)\n",
    "    print(result)"
   ]
  },
  {
   "cell_type": "markdown",
   "metadata": {},
   "source": [
    " "
   ]
  },
  {
   "cell_type": "markdown",
   "metadata": {},
   "source": [
    "### 6. Using variables"
   ]
  },
  {
   "cell_type": "code",
   "execution_count": 13,
   "metadata": {},
   "outputs": [
    {
     "name": "stdout",
     "output_type": "stream",
     "text": [
      "Spike False\n",
      "Spike True\n",
      "Spike False\n",
      "Spike False\n",
      "Spike True\n",
      "Spike False\n",
      "Spike True\n"
     ]
    }
   ],
   "source": [
    "sess = tf.InteractiveSession()\n",
    "\n",
    "# Below is a series of numbers. Don't worry what they mean. Just for fun, let's think of them as neural activations.\n",
    "raw_data = [1., 2., 8., -1., 0., 5.5, 6., 13]\n",
    "\n",
    "spike = tf.Variable(False)          # Create a boolean variable called spike to detect a sudden increase in the values.\n",
    "spike.initializer.run()             # All variables must be initialized, so do that by calling run() on its initializer\n",
    "\n",
    "# Loop through the data and update the spike variable when there is a significant increase:\n",
    "for i in range(1, len(raw_data)):\n",
    "    if raw_data[i] - raw_data[i-1] > 5:\n",
    "        updater = tf.assign(spike, tf.constant(True))\n",
    "        updater.eval()\n",
    "    else:\n",
    "        tf.assign(spike, False).eval()\n",
    "    print(\"Spike\", spike.eval())\n",
    "\n",
    "sess.close()"
   ]
  },
  {
   "cell_type": "markdown",
   "metadata": {},
   "source": [
    " "
   ]
  },
  {
   "cell_type": "markdown",
   "metadata": {},
   "source": [
    "### 7. Saving and Loading variables"
   ]
  },
  {
   "cell_type": "code",
   "execution_count": 2,
   "metadata": {},
   "outputs": [
    {
     "name": "stdout",
     "output_type": "stream",
     "text": [
      "Model saved in file: ./model.ckpt\n",
      "INFO:tensorflow:Restoring parameters from ./model.ckpt\n",
      "Model restored.\n",
      "v1 : [ 1.  1.  1.]\n",
      "v2 : [-1. -1. -1. -1. -1.]\n"
     ]
    }
   ],
   "source": [
    "# Create some variables.\n",
    "v1 = tf.get_variable(\"v1\", shape=[3], initializer = tf.zeros_initializer)\n",
    "v2 = tf.get_variable(\"v2\", shape=[5], initializer = tf.zeros_initializer)\n",
    "\n",
    "inc_v1 = v1.assign(v1+1)\n",
    "dec_v2 = v2.assign(v2-1)\n",
    "\n",
    "# Add an op to initialize the variables.\n",
    "init_op = tf.global_variables_initializer()\n",
    "\n",
    "# Add ops to save and restore all the variables.\n",
    "saver = tf.train.Saver()\n",
    "\n",
    "# Later, launch the model, initialize the variables, do some work, and save the\n",
    "# variables to disk.\n",
    "with tf.Session() as sess:\n",
    "  sess.run(init_op)\n",
    "  # Do some work with the model.\n",
    "  inc_v1.op.run()\n",
    "  dec_v2.op.run()\n",
    "  # Save the variables to disk.\n",
    "  save_path = saver.save(sess, \"./model.ckpt\")\n",
    "  print(\"Model saved in file: %s\" % save_path)\n",
    "\n",
    "\n",
    "\n",
    "tf.reset_default_graph()\n",
    "\n",
    "# Create some variables.\n",
    "v1 = tf.get_variable(\"v1\", shape=[3])\n",
    "v2 = tf.get_variable(\"v2\", shape=[5])\n",
    "\n",
    "# Add ops to save and restore all the variables.\n",
    "saver = tf.train.Saver()\n",
    "\n",
    "# Later, launch the model, use the saver to restore variables from disk, and\n",
    "# do some work with the model.\n",
    "with tf.Session() as sess:\n",
    "  # Restore variables from disk.\n",
    "  saver.restore(sess, \"./model.ckpt\")\n",
    "  print(\"Model restored.\")\n",
    "  # Check the values of the variables\n",
    "  print(\"v1 : %s\" % v1.eval())\n",
    "  print(\"v2 : %s\" % v2.eval())"
   ]
  },
  {
   "cell_type": "markdown",
   "metadata": {},
   "source": [
    " "
   ]
  },
  {
   "cell_type": "markdown",
   "metadata": {},
   "source": [
    "### 8. Using TensorBoard"
   ]
  },
  {
   "cell_type": "code",
   "execution_count": 1,
   "metadata": {},
   "outputs": [
    {
     "name": "stdout",
     "output_type": "stream",
     "text": [
      "9.47635434563 0.473818\n",
      "9.60296265725 0.930275\n",
      "9.85807458641 1.37666\n",
      "10.5604578661 1.83585\n",
      "9.4838370467 2.21825\n",
      "10.7911589578 2.6469\n",
      "9.45528987947 2.98732\n",
      "7.88915009735 3.23241\n",
      "8.50221899224 3.4959\n",
      "9.85582043906 3.8139\n",
      "10.0551507106 4.12596\n",
      "9.23608385175 4.38146\n",
      "9.76630070154 4.65071\n",
      "10.4291219809 4.93963\n",
      "8.3545398698 5.11037\n",
      "9.68754538127 5.33923\n",
      "9.09922122021 5.52723\n",
      "10.9397857317 5.79786\n",
      "9.68718500314 5.99233\n",
      "10.675258966 6.22647\n",
      "9.40013638064 6.38516\n",
      "10.1726575743 6.57453\n",
      "11.3738005278 6.81449\n",
      "8.81947069403 6.91474\n",
      "8.81165201316 7.00959\n",
      "10.1802751781 7.16812\n",
      "8.13426583658 7.21643\n",
      "11.7745697787 7.44434\n",
      "10.3357449044 7.58891\n",
      "8.61432080671 7.64018\n",
      "9.33638093012 7.72499\n",
      "8.35274831443 7.75637\n",
      "10.3979211107 7.88845\n",
      "10.4836790465 8.01821\n",
      "10.3588084955 8.13524\n",
      "10.1123917926 8.2341\n",
      "11.087338253 8.37676\n",
      "10.5259142536 8.48422\n",
      "9.36115473557 8.52807\n",
      "11.2844634711 8.66589\n",
      "9.73973670829 8.71958\n",
      "10.2316002506 8.79518\n",
      "10.4828468294 8.87956\n",
      "10.1835488592 8.94476\n",
      "9.48677892302 8.97186\n",
      "9.12667443988 8.9796\n",
      "10.4127902907 9.05126\n",
      "10.4091446738 9.11916\n",
      "10.6886421773 9.19763\n",
      "9.72461921146 9.22398\n",
      "8.19002115474 9.17228\n",
      "12.0509347082 9.31622\n",
      "8.5057080583 9.27569\n",
      "9.97770893104 9.31079\n",
      "12.007907075 9.44565\n",
      "9.65900474112 9.45631\n",
      "10.4507838277 9.50604\n",
      "8.67928580768 9.4647\n",
      "9.52167488536 9.46755\n",
      "8.9988491384 9.44411\n",
      "9.0411923319 9.42397\n",
      "9.60095072268 9.43282\n",
      "8.47491147395 9.38492\n",
      "9.4632802084 9.38884\n",
      "10.9013937383 9.46447\n",
      "13.1634646084 9.64942\n",
      "9.85932904672 9.65991\n",
      "10.2864532386 9.69124\n",
      "9.84599351847 9.69898\n",
      "9.41121584285 9.68459\n",
      "8.17448210583 9.60908\n",
      "10.016434554 9.62945\n",
      "9.28114549295 9.61203\n",
      "8.32119772389 9.54749\n",
      "8.96498897044 9.51837\n",
      "9.83336731587 9.53412\n",
      "10.4600867913 9.58042\n",
      "10.1369071352 9.60824\n",
      "10.7846082039 9.66706\n",
      "9.29305745373 9.64836\n",
      "9.70411106464 9.65115\n",
      "8.89295830342 9.61324\n",
      "11.1826219632 9.6917\n",
      "10.4690003701 9.73057\n",
      "8.69376167864 9.67873\n",
      "10.6530408 9.72744\n",
      "9.55385184346 9.71876\n",
      "9.81379572097 9.72352\n",
      "10.8201132755 9.77835\n",
      "10.8608381652 9.83247\n",
      "10.586141152 9.87016\n",
      "10.6763456957 9.91046\n",
      "9.44608776062 9.88725\n",
      "10.1562560407 9.90069\n",
      "8.66869545341 9.83909\n",
      "10.453411138 9.86981\n",
      "10.8080307306 9.91672\n",
      "9.87003018865 9.91439\n",
      "10.9236040437 9.96485\n",
      "9.89520259702 9.96136\n"
     ]
    }
   ],
   "source": [
    "import tensorflow as tf\n",
    "import numpy as np\n",
    "\n",
    "# Create a vector of 1000 numbers with a mean of 10 and standard deviation of 1\n",
    "raw_data = np.random.normal(10, 1, 100)\n",
    "\n",
    "\n",
    "alpha = tf.constant(0.05)\n",
    "curr_value = tf.placeholder(tf.float32)\n",
    "prev_avg = tf.Variable(0.)\n",
    "\n",
    "\n",
    "update_avg = alpha * curr_value + (1 - alpha) * prev_avg\n",
    "\n",
    "# Create a summary node for the averages & values\n",
    "avg_hist = tf.summary.scalar(\"running_average\", update_avg)\n",
    "value_hist = tf.summary.scalar(\"incoming_values\", curr_value)\n",
    "\n",
    "#Merge the summaries to make it easier to run t ogether\n",
    "merged = tf.summary.merge_all()\n",
    "\n",
    "# Pass in the “logs” directory location to the writer\n",
    "writer = tf.summary.FileWriter(\"./logs\")\n",
    "\n",
    "\n",
    "init = tf.global_variables_initializer()\n",
    "with tf.Session() as sess:\n",
    "    sess.run(init)\n",
    "    for i in range(len(raw_data)):\n",
    "        summary_str, curr_avg = sess.run([merged, update_avg], feed_dict={curr_value: raw_data[i]})\n",
    "        sess.run(tf.assign(prev_avg, curr_avg))\n",
    "        print(raw_data[i], curr_avg)\n",
    "        \n",
    "        # Add the summary to the writer\n",
    "        writer.add_summary(summary_str, i)\n",
    "\n",
    "\n",
    "# use following command to run tenserboard:\n",
    "# tensorboard --logdir=./logs"
   ]
  },
  {
   "cell_type": "markdown",
   "metadata": {},
   "source": [
    " "
   ]
  },
  {
   "cell_type": "markdown",
   "metadata": {},
   "source": [
    "# "
   ]
  }
 ],
 "metadata": {
  "kernelspec": {
   "display_name": "Python 3",
   "language": "python",
   "name": "python3"
  },
  "language_info": {
   "codemirror_mode": {
    "name": "ipython",
    "version": 3
   },
   "file_extension": ".py",
   "mimetype": "text/x-python",
   "name": "python",
   "nbconvert_exporter": "python",
   "pygments_lexer": "ipython3",
   "version": "3.6.2"
  }
 },
 "nbformat": 4,
 "nbformat_minor": 2
}
